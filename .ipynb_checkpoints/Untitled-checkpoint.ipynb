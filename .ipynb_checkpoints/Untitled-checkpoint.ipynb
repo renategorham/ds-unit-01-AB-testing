{
 "cells": [
  {
   "cell_type": "markdown",
   "metadata": {},
   "source": [
    "# A/B tests  \n",
    "Unit 01 / Lesson 04 / Project 01  "
   ]
  },
  {
   "cell_type": "markdown",
   "metadata": {},
   "source": [
    "##### Does a new supplement help people sleep better?  \n",
    "1) Control / treatment  \n",
    "- For this study control and treatment will be placebo-api combination. Where two deliveries are manufactured. For the treatment, the supplement formulation is used. For the control, the exact form is used, with the same binders and fillers; all apis are removed.  \n",
    "\n",
    "2) Sample  \n",
    "- The sample should be randomized across demographics. Equal proportion of genders, ages, locations, and other factors. Also, equal proportions of self reported incidence of sleeping difficulties, exercise rates, etc.  \n",
    "\n",
    "3) Hypothesis \n",
    "- The hypothesis is: The supplement results in better sleep.  \n",
    "\n",
    "4) Outcomes  \n",
    "- Self report sleep satisfaction and measured sleep quality (i.e., fitness tracker).\n",
    "\n",
    "5) Other measures  \n",
    "- Baseline - self reported and measured sleep patterns before starting the supplement (placebo) regimen.  \n",
    "- Sleep time.\n",
    "- Pre-sleep activities.\n",
    "- Pre-sleep food, beverage, alcohol consumption."
   ]
  },
  {
   "cell_type": "markdown",
   "metadata": {},
   "source": [
    "##### Will new uniforms help a gym's business?  \n",
    "1) Control/treatment  \n",
    "- Assuming multiple locations: Control is a gym location using current uniforms. Treatment is gym locations using proposed uniforms. \n",
    "- Assuming a single location: Alternate between current and proposed uniforms for a random time period (between 4 and 14 days).  \n",
    "\n",
    "2) Sample  \n",
    "- Assuming multiple locations: equal proportions of client make-up and social-economic information for each location.  \n",
    "- Assuming a single location: sample all-on / all-off in days.  \n",
    "\n",
    "3) Hypothesis\n",
    "- Business increases when staff wears new uniforms.  \n",
    "\n",
    "4) Outcomes  \n",
    "- Assuming multiple locations: change in business at each location by uniform type.\n",
    "- Assuming a single location: change in business for on and off days.\n",
    "\n",
    "5) Other measures\n",
    "- Baseline business growth.  \n",
    "- Industry wide business growth.  \n",
    "- Historical variation in business growth."
   ]
  },
  {
   "cell_type": "markdown",
   "metadata": {},
   "source": [
    "##### Will a new homepage improve my online exotic pet rental business?  \n",
    "1) Control/treatment  \n",
    "- The control is the current homepage design. The treatment is the new homepage design.  \n",
    "\n",
    "2) Sample\n",
    "- Randomly load current or new homepage, static once loaded based on say IP address.  \n",
    "\n",
    "3) Hypothesis\n",
    "- Business improves with the new homepage.\n",
    "\n",
    "4) Outcomes\n",
    "- Sales activity, homepage interaction.\n",
    "\n",
    "5) Other measures\n",
    "- Baseline sales (before study)\n",
    "- Industry sales\n"
   ]
  },
  {
   "cell_type": "markdown",
   "metadata": {},
   "source": [
    "##### If I put 'please read' in the email subject will more people read my emails?   \n",
    "1) Control/Treatment  \n",
    "- The control is emails without 'please read'. The treatment as emails with 'please read'.  \n",
    "\n",
    "2) Sample \n",
    "- Randomly assign condition. Hold equal proportion of demographics for each condition.  \n",
    "\n",
    "3) Hypothesis\n",
    "- More emails are read when 'please read' is in the subject line.  \n",
    "\n",
    "4) Outcomes  \n",
    "- Using a email tracking system, number of read receipts.  \n",
    "\n",
    "5) Other measures  \n",
    "- Activity for any email 'asks'.  \n",
    "- Time between email receipt and reading (opening).  "
   ]
  },
  {
   "cell_type": "code",
   "execution_count": null,
   "metadata": {},
   "outputs": [],
   "source": []
  }
 ],
 "metadata": {
  "kernelspec": {
   "display_name": "Python 3",
   "language": "python",
   "name": "python3"
  },
  "language_info": {
   "codemirror_mode": {
    "name": "ipython",
    "version": 3
   },
   "file_extension": ".py",
   "mimetype": "text/x-python",
   "name": "python",
   "nbconvert_exporter": "python",
   "pygments_lexer": "ipython3",
   "version": "3.7.0"
  },
  "toc": {
   "base_numbering": 1,
   "nav_menu": {},
   "number_sections": true,
   "sideBar": true,
   "skip_h1_title": true,
   "title_cell": "",
   "title_sidebar": "Contents",
   "toc_cell": false,
   "toc_position": {},
   "toc_section_display": true,
   "toc_window_display": true
  }
 },
 "nbformat": 4,
 "nbformat_minor": 2
}
